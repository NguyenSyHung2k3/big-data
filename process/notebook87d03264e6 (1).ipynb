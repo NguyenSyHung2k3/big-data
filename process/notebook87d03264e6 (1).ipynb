{
 "cells": [
  {
   "cell_type": "code",
   "execution_count": 1,
   "metadata": {
    "_cell_guid": "b1076dfc-b9ad-4769-8c92-a6c4dae69d19",
    "_uuid": "8f2839f25d086af736a60e9eeb907d3b93b6e0e5",
    "execution": {
     "iopub.execute_input": "2025-01-02T04:14:36.967228Z",
     "iopub.status.busy": "2025-01-02T04:14:36.966955Z",
     "iopub.status.idle": "2025-01-02T04:15:23.476296Z",
     "shell.execute_reply": "2025-01-02T04:15:23.474951Z",
     "shell.execute_reply.started": "2025-01-02T04:14:36.967202Z"
    },
    "trusted": true
   },
   "outputs": [
    {
     "name": "stdout",
     "output_type": "stream",
     "text": [
      "Collecting findspark\n",
      "  Downloading findspark-2.0.1-py2.py3-none-any.whl.metadata (352 bytes)\n",
      "Downloading findspark-2.0.1-py2.py3-none-any.whl (4.4 kB)\n",
      "Installing collected packages: findspark\n",
      "Successfully installed findspark-2.0.1\n",
      "Collecting pyspark\n",
      "  Downloading pyspark-3.5.4.tar.gz (317.3 MB)\n",
      "\u001b[2K     \u001b[90m━━━━━━━━━━━━━━━━━━━━━━━━━━━━━━━━━━━━━━━━\u001b[0m \u001b[32m317.3/317.3 MB\u001b[0m \u001b[31m4.7 MB/s\u001b[0m eta \u001b[36m0:00:00\u001b[0m0:00:01\u001b[0m00:01\u001b[0m\n",
      "\u001b[?25h  Preparing metadata (setup.py) ... \u001b[?25l\u001b[?25hdone\n",
      "Requirement already satisfied: py4j==0.10.9.7 in /usr/local/lib/python3.10/dist-packages (from pyspark) (0.10.9.7)\n",
      "Building wheels for collected packages: pyspark\n",
      "  Building wheel for pyspark (setup.py) ... \u001b[?25l\u001b[?25hdone\n",
      "  Created wheel for pyspark: filename=pyspark-3.5.4-py2.py3-none-any.whl size=317849765 sha256=9d2742e241e213e74687aec2e1106f9ea8fb2afdce2481298566a9c082ed499c\n",
      "  Stored in directory: /root/.cache/pip/wheels/d9/1c/98/31e395a42d1735d18d42124971ecbbade844b50bb9845b6f4a\n",
      "Successfully built pyspark\n",
      "Installing collected packages: pyspark\n",
      "Successfully installed pyspark-3.5.4\n"
     ]
    }
   ],
   "source": [
    "!pip install findspark\n",
    "!pip install pyspark"
   ]
  },
  {
   "cell_type": "code",
   "execution_count": 4,
   "metadata": {
    "execution": {
     "iopub.execute_input": "2025-01-02T04:15:23.477636Z",
     "iopub.status.busy": "2025-01-02T04:15:23.477289Z",
     "iopub.status.idle": "2025-01-02T04:15:23.973439Z",
     "shell.execute_reply": "2025-01-02T04:15:23.971948Z",
     "shell.execute_reply.started": "2025-01-02T04:15:23.477603Z"
    },
    "trusted": true
   },
   "outputs": [],
   "source": [
    "from pyspark.sql import SparkSession\n",
    "from pyspark.sql.functions import col\n",
    "from pyspark.ml.feature import VectorAssembler, StandardScaler, StringIndexer\n",
    "from pyspark.ml.regression import LinearRegression\n",
    "from pyspark.ml.classification import LogisticRegression\n",
    "from pyspark.ml.evaluation import RegressionEvaluator, BinaryClassificationEvaluator\n",
    "from pyspark.ml import Pipeline\n",
    "from pyspark.ml.clustering import KMeans\n",
    "from pyspark.ml.evaluation import ClusteringEvaluator\n",
    "from pyspark.storagelevel import StorageLevel"
   ]
  },
  {
   "cell_type": "code",
   "execution_count": 5,
   "metadata": {
    "execution": {
     "iopub.execute_input": "2025-01-02T04:15:23.978996Z",
     "iopub.status.busy": "2025-01-02T04:15:23.978602Z",
     "iopub.status.idle": "2025-01-02T04:15:36.217226Z",
     "shell.execute_reply": "2025-01-02T04:15:36.215680Z",
     "shell.execute_reply.started": "2025-01-02T04:15:23.978951Z"
    },
    "trusted": true
   },
   "outputs": [
    {
     "ename": "AnalysisException",
     "evalue": "Path does not exist: file:/kaggle/input/output/output.csv",
     "output_type": "error",
     "traceback": [
      "\u001b[1;31m---------------------------------------------------------------------------\u001b[0m",
      "\u001b[1;31mAnalysisException\u001b[0m                         Traceback (most recent call last)",
      "Cell \u001b[1;32mIn[5], line 3\u001b[0m\n\u001b[0;32m      1\u001b[0m spark \u001b[38;5;241m=\u001b[39m SparkSession\u001b[38;5;241m.\u001b[39mbuilder\u001b[38;5;241m.\u001b[39mappName(\u001b[38;5;124m\"\u001b[39m\u001b[38;5;124mMusic\u001b[39m\u001b[38;5;124m\"\u001b[39m) \\\n\u001b[0;32m      2\u001b[0m     \u001b[38;5;241m.\u001b[39mgetOrCreate()\n\u001b[1;32m----> 3\u001b[0m df \u001b[38;5;241m=\u001b[39m \u001b[43mspark\u001b[49m\u001b[38;5;241;43m.\u001b[39;49m\u001b[43mread\u001b[49m\u001b[38;5;241;43m.\u001b[39;49m\u001b[43mcsv\u001b[49m\u001b[43m(\u001b[49m\u001b[38;5;124;43m\"\u001b[39;49m\u001b[38;5;124;43m/kaggle/input/output/output.csv\u001b[39;49m\u001b[38;5;124;43m\"\u001b[39;49m\u001b[43m,\u001b[49m\u001b[43m \u001b[49m\u001b[43mheader\u001b[49m\u001b[38;5;241;43m=\u001b[39;49m\u001b[38;5;28;43;01mTrue\u001b[39;49;00m\u001b[43m)\u001b[49m\n\u001b[0;32m      4\u001b[0m df \u001b[38;5;241m=\u001b[39m df\u001b[38;5;241m.\u001b[39mdropna()\n",
      "File \u001b[1;32mc:\\Users\\pv\\AppData\\Local\\Programs\\Python\\Python313\\Lib\\site-packages\\pyspark\\sql\\readwriter.py:410\u001b[0m, in \u001b[0;36mDataFrameReader.csv\u001b[1;34m(self, path, schema, sep, encoding, quote, escape, comment, header, inferSchema, ignoreLeadingWhiteSpace, ignoreTrailingWhiteSpace, nullValue, nanValue, positiveInf, negativeInf, dateFormat, timestampFormat, maxColumns, maxCharsPerColumn, maxMalformedLogPerPartition, mode, columnNameOfCorruptRecord, multiLine, charToEscapeQuoteEscaping, samplingRatio, enforceSchema, emptyValue, locale, lineSep, pathGlobFilter, recursiveFileLookup, modifiedBefore, modifiedAfter, unescapedQuoteHandling)\u001b[0m\n\u001b[0;32m    408\u001b[0m     path \u001b[38;5;241m=\u001b[39m [path]\n\u001b[0;32m    409\u001b[0m \u001b[38;5;28;01mif\u001b[39;00m \u001b[38;5;28mtype\u001b[39m(path) \u001b[38;5;241m==\u001b[39m \u001b[38;5;28mlist\u001b[39m:\n\u001b[1;32m--> 410\u001b[0m     \u001b[38;5;28;01mreturn\u001b[39;00m \u001b[38;5;28mself\u001b[39m\u001b[38;5;241m.\u001b[39m_df(\u001b[38;5;28;43mself\u001b[39;49m\u001b[38;5;241;43m.\u001b[39;49m\u001b[43m_jreader\u001b[49m\u001b[38;5;241;43m.\u001b[39;49m\u001b[43mcsv\u001b[49m\u001b[43m(\u001b[49m\u001b[38;5;28;43mself\u001b[39;49m\u001b[38;5;241;43m.\u001b[39;49m\u001b[43m_spark\u001b[49m\u001b[38;5;241;43m.\u001b[39;49m\u001b[43m_sc\u001b[49m\u001b[38;5;241;43m.\u001b[39;49m\u001b[43m_jvm\u001b[49m\u001b[38;5;241;43m.\u001b[39;49m\u001b[43mPythonUtils\u001b[49m\u001b[38;5;241;43m.\u001b[39;49m\u001b[43mtoSeq\u001b[49m\u001b[43m(\u001b[49m\u001b[43mpath\u001b[49m\u001b[43m)\u001b[49m\u001b[43m)\u001b[49m)\n\u001b[0;32m    411\u001b[0m \u001b[38;5;28;01melif\u001b[39;00m \u001b[38;5;28misinstance\u001b[39m(path, RDD):\n\u001b[0;32m    412\u001b[0m     \u001b[38;5;28;01mdef\u001b[39;00m \u001b[38;5;21mfunc\u001b[39m(iterator):\n",
      "File \u001b[1;32mc:\\Users\\pv\\AppData\\Local\\Programs\\Python\\Python313\\Lib\\site-packages\\py4j\\java_gateway.py:1321\u001b[0m, in \u001b[0;36mJavaMember.__call__\u001b[1;34m(self, *args)\u001b[0m\n\u001b[0;32m   1315\u001b[0m command \u001b[38;5;241m=\u001b[39m proto\u001b[38;5;241m.\u001b[39mCALL_COMMAND_NAME \u001b[38;5;241m+\u001b[39m\\\n\u001b[0;32m   1316\u001b[0m     \u001b[38;5;28mself\u001b[39m\u001b[38;5;241m.\u001b[39mcommand_header \u001b[38;5;241m+\u001b[39m\\\n\u001b[0;32m   1317\u001b[0m     args_command \u001b[38;5;241m+\u001b[39m\\\n\u001b[0;32m   1318\u001b[0m     proto\u001b[38;5;241m.\u001b[39mEND_COMMAND_PART\n\u001b[0;32m   1320\u001b[0m answer \u001b[38;5;241m=\u001b[39m \u001b[38;5;28mself\u001b[39m\u001b[38;5;241m.\u001b[39mgateway_client\u001b[38;5;241m.\u001b[39msend_command(command)\n\u001b[1;32m-> 1321\u001b[0m return_value \u001b[38;5;241m=\u001b[39m \u001b[43mget_return_value\u001b[49m\u001b[43m(\u001b[49m\n\u001b[0;32m   1322\u001b[0m \u001b[43m    \u001b[49m\u001b[43manswer\u001b[49m\u001b[43m,\u001b[49m\u001b[43m \u001b[49m\u001b[38;5;28;43mself\u001b[39;49m\u001b[38;5;241;43m.\u001b[39;49m\u001b[43mgateway_client\u001b[49m\u001b[43m,\u001b[49m\u001b[43m \u001b[49m\u001b[38;5;28;43mself\u001b[39;49m\u001b[38;5;241;43m.\u001b[39;49m\u001b[43mtarget_id\u001b[49m\u001b[43m,\u001b[49m\u001b[43m \u001b[49m\u001b[38;5;28;43mself\u001b[39;49m\u001b[38;5;241;43m.\u001b[39;49m\u001b[43mname\u001b[49m\u001b[43m)\u001b[49m\n\u001b[0;32m   1324\u001b[0m \u001b[38;5;28;01mfor\u001b[39;00m temp_arg \u001b[38;5;129;01min\u001b[39;00m temp_args:\n\u001b[0;32m   1325\u001b[0m     temp_arg\u001b[38;5;241m.\u001b[39m_detach()\n",
      "File \u001b[1;32mc:\\Users\\pv\\AppData\\Local\\Programs\\Python\\Python313\\Lib\\site-packages\\pyspark\\sql\\utils.py:117\u001b[0m, in \u001b[0;36mcapture_sql_exception.<locals>.deco\u001b[1;34m(*a, **kw)\u001b[0m\n\u001b[0;32m    113\u001b[0m converted \u001b[38;5;241m=\u001b[39m convert_exception(e\u001b[38;5;241m.\u001b[39mjava_exception)\n\u001b[0;32m    114\u001b[0m \u001b[38;5;28;01mif\u001b[39;00m \u001b[38;5;129;01mnot\u001b[39;00m \u001b[38;5;28misinstance\u001b[39m(converted, UnknownException):\n\u001b[0;32m    115\u001b[0m     \u001b[38;5;66;03m# Hide where the exception came from that shows a non-Pythonic\u001b[39;00m\n\u001b[0;32m    116\u001b[0m     \u001b[38;5;66;03m# JVM exception message.\u001b[39;00m\n\u001b[1;32m--> 117\u001b[0m     \u001b[38;5;28;01mraise\u001b[39;00m converted \u001b[38;5;28;01mfrom\u001b[39;00m \u001b[38;5;28;01mNone\u001b[39;00m\n\u001b[0;32m    118\u001b[0m \u001b[38;5;28;01melse\u001b[39;00m:\n\u001b[0;32m    119\u001b[0m     \u001b[38;5;28;01mraise\u001b[39;00m\n",
      "\u001b[1;31mAnalysisException\u001b[0m: Path does not exist: file:/kaggle/input/output/output.csv"
     ]
    }
   ],
   "source": [
    "spark = SparkSession.builder.appName(\"Music\") \\\n",
    "    .getOrCreate()\n",
    "df = spark.read.csv(\"/kaggle/input/output/output.csv\", header=True)\n",
    "df = df.dropna()"
   ]
  },
  {
   "cell_type": "code",
   "execution_count": 4,
   "metadata": {
    "execution": {
     "iopub.execute_input": "2025-01-02T04:15:36.218719Z",
     "iopub.status.busy": "2025-01-02T04:15:36.218374Z",
     "iopub.status.idle": "2025-01-02T04:15:36.436971Z",
     "shell.execute_reply": "2025-01-02T04:15:36.435700Z",
     "shell.execute_reply.started": "2025-01-02T04:15:36.218671Z"
    },
    "trusted": true
   },
   "outputs": [],
   "source": [
    "columns_to_cast = [\"Acousticness\", \"Energy\", \"Liveness\", \"Loudness\", \"Tempo\", \"Popularity\"]\n",
    "for col_name in columns_to_cast:\n",
    "    df = df.withColumn(col_name, col(col_name).cast(\"double\"))"
   ]
  },
  {
   "cell_type": "code",
   "execution_count": 5,
   "metadata": {
    "execution": {
     "iopub.execute_input": "2025-01-02T04:15:36.438496Z",
     "iopub.status.busy": "2025-01-02T04:15:36.438045Z",
     "iopub.status.idle": "2025-01-02T04:16:21.491748Z",
     "shell.execute_reply": "2025-01-02T04:16:21.486540Z",
     "shell.execute_reply.started": "2025-01-02T04:15:36.438449Z"
    },
    "trusted": true
   },
   "outputs": [],
   "source": [
    "indexer = StringIndexer(inputCol=\"Explicit\", outputCol=\"ExplicitIndex\")\n",
    "df = indexer.fit(df).transform(df)\n",
    "assembler = VectorAssembler(\n",
    "    inputCols=[\"Acousticness\", \"Energy\", \"Liveness\", \"Loudness\", \"Tempo\", \"ExplicitIndex\"],\n",
    "    outputCol=\"features\",\n",
    "    handleInvalid=\"skip\"\n",
    ")\n",
    "df = assembler.transform(df)"
   ]
  },
  {
   "cell_type": "code",
   "execution_count": 6,
   "metadata": {
    "execution": {
     "iopub.execute_input": "2025-01-02T04:16:21.499242Z",
     "iopub.status.busy": "2025-01-02T04:16:21.494257Z",
     "iopub.status.idle": "2025-01-02T04:17:04.192811Z",
     "shell.execute_reply": "2025-01-02T04:17:04.191453Z",
     "shell.execute_reply.started": "2025-01-02T04:16:21.499174Z"
    },
    "trusted": true
   },
   "outputs": [],
   "source": [
    "scaler = StandardScaler(inputCol=\"features\", outputCol=\"scaledFeatures\")\n",
    "df = scaler.fit(df).transform(df)"
   ]
  },
  {
   "cell_type": "code",
   "execution_count": 7,
   "metadata": {
    "execution": {
     "iopub.execute_input": "2025-01-02T04:17:04.197033Z",
     "iopub.status.busy": "2025-01-02T04:17:04.196558Z",
     "iopub.status.idle": "2025-01-02T04:17:04.237410Z",
     "shell.execute_reply": "2025-01-02T04:17:04.236257Z",
     "shell.execute_reply.started": "2025-01-02T04:17:04.196989Z"
    },
    "trusted": true
   },
   "outputs": [],
   "source": [
    "train_data, test_data = df.randomSplit([0.8, 0.2], seed=42)\n"
   ]
  },
  {
   "cell_type": "code",
   "execution_count": 8,
   "metadata": {
    "execution": {
     "iopub.execute_input": "2025-01-02T04:17:04.240356Z",
     "iopub.status.busy": "2025-01-02T04:17:04.239624Z",
     "iopub.status.idle": "2025-01-02T04:20:54.303813Z",
     "shell.execute_reply": "2025-01-02T04:20:54.302550Z",
     "shell.execute_reply.started": "2025-01-02T04:17:04.240307Z"
    },
    "trusted": true
   },
   "outputs": [],
   "source": [
    "kmeans = KMeans(featuresCol=\"scaledFeatures\", k=3)\n",
    "kmeans_model = kmeans.fit(df)\n",
    "predictions = kmeans_model.transform(df)"
   ]
  },
  {
   "cell_type": "code",
   "execution_count": 20,
   "metadata": {
    "execution": {
     "iopub.execute_input": "2025-01-02T04:58:38.070617Z",
     "iopub.status.busy": "2025-01-02T04:58:38.070132Z",
     "iopub.status.idle": "2025-01-02T05:50:29.070233Z",
     "shell.execute_reply": "2025-01-02T05:50:29.066631Z",
     "shell.execute_reply.started": "2025-01-02T04:58:38.070590Z"
    },
    "trusted": true
   },
   "outputs": [
    {
     "name": "stdout",
     "output_type": "stream",
     "text": [
      "2\n",
      "3\n",
      "4\n",
      "5\n",
      "6\n",
      "7\n",
      "8\n",
      "9\n",
      "10\n",
      "11\n",
      "Silhouette Scores for different k: [(2, 0.9473948542276556), (3, -0.21975551808531962), (4, 0.2447788402899272), (5, 0.2481906620657661), (6, 0.30466687845734275), (7, -0.06121119861340394), (8, 0.1650080687577307), (9, 0.03447948000126934), (10, 0.268946216703677), (11, 0.20462123168752974)]\n"
     ]
    }
   ],
   "source": [
    "silhouette_scores = []\n",
    "for k in range(2, 12):\n",
    "    kmeans = KMeans(featuresCol=\"scaledFeatures\", k=k, seed=42)\n",
    "    kmeans_model = kmeans.fit(df)\n",
    "    \n",
    "    predictions = kmeans_model.transform(df)\n",
    "    \n",
    "    evaluator = ClusteringEvaluator(featuresCol=\"scaledFeatures\", metricName=\"silhouette\", distanceMeasure=\"squaredEuclidean\")\n",
    "    silhouette_score = evaluator.evaluate(predictions)\n",
    "    \n",
    "    silhouette_scores.append((k, silhouette_score))\n",
    "best_k, best_score = max(silhouette_scores, key=lambda x: x[1])"
   ]
  },
  {
   "cell_type": "code",
   "execution_count": 28,
   "metadata": {
    "execution": {
     "iopub.execute_input": "2025-01-02T06:20:13.633416Z",
     "iopub.status.busy": "2025-01-02T06:20:13.633045Z",
     "iopub.status.idle": "2025-01-02T06:20:14.193239Z",
     "shell.execute_reply": "2025-01-02T06:20:14.191295Z",
     "shell.execute_reply.started": "2025-01-02T06:20:13.633390Z"
    },
    "trusted": true
   },
   "outputs": [
    {
     "data": {
      "image/png": "[encoded data removed]",
      "text/plain": [
       "<Figure size 1000x600 with 1 Axes>"
      ]
     },
     "metadata": {},
     "output_type": "display_data"
    }
   ],
   "source": [
    "k_values, scores = zip(*silhouette_scores)\n",
    "plt.figure(figsize=(10, 6))\n",
    "plt.plot(k_values, scores, marker='o', linestyle='-', color='b', label=\"Silhouette Score\")\n",
    "plt.axhline(y=max(scores), color='r', linestyle='--', label=f\"Max Score: {max(scores):.4f} at k={k_values[scores.index(max(scores))]}\")\n",
    "plt.title(\"Silhouette Scores for Different k\")\n",
    "plt.xlabel(\"Number of Clusters (k)\")\n",
    "plt.ylabel(\"Silhouette Score\")\n",
    "plt.legend()\n",
    "plt.grid()\n",
    "plt.show()"
   ]
  },
  {
   "cell_type": "code",
   "execution_count": null,
   "metadata": {
    "trusted": true
   },
   "outputs": [],
   "source": [
    "kmeans = KMeans(featuresCol=\"scaledFeatures\", k=3, seed=42)\n",
    "kmeans_model = kmeans.fit(df)\n",
    "predictions = kmeans_model.transform(df)"
   ]
  },
  {
   "cell_type": "code",
   "execution_count": 1,
   "metadata": {
    "execution": {
     "iopub.execute_input": "2025-01-02T06:20:20.317781Z",
     "iopub.status.busy": "2025-01-02T06:20:20.317392Z",
     "iopub.status.idle": "2025-01-02T06:23:07.657119Z",
     "shell.execute_reply": "2025-01-02T06:23:07.654860Z",
     "shell.execute_reply.started": "2025-01-02T06:20:20.317751Z"
    },
    "trusted": true
   },
   "outputs": [
    {
     "ename": "NameError",
     "evalue": "name 'spark' is not defined",
     "output_type": "error",
     "traceback": [
      "\u001b[1;31m---------------------------------------------------------------------------\u001b[0m",
      "\u001b[1;31mNameError\u001b[0m                                 Traceback (most recent call last)",
      "Cell \u001b[1;32mIn[1], line 4\u001b[0m\n\u001b[0;32m      1\u001b[0m \u001b[38;5;28;01mimport\u001b[39;00m \u001b[38;5;21;01mmatplotlib\u001b[39;00m\u001b[38;5;21;01m.\u001b[39;00m\u001b[38;5;21;01mpyplot\u001b[39;00m \u001b[38;5;28;01mas\u001b[39;00m \u001b[38;5;21;01mplt\u001b[39;00m\n\u001b[0;32m      2\u001b[0m \u001b[38;5;28;01mimport\u001b[39;00m \u001b[38;5;21;01mpandas\u001b[39;00m \u001b[38;5;28;01mas\u001b[39;00m \u001b[38;5;21;01mpd\u001b[39;00m\n\u001b[1;32m----> 4\u001b[0m \u001b[43mspark\u001b[49m\u001b[38;5;241m.\u001b[39mconf\u001b[38;5;241m.\u001b[39mset(\u001b[38;5;124m\"\u001b[39m\u001b[38;5;124mspark.sql.execution.arrow.pyspark.enabled\u001b[39m\u001b[38;5;124m\"\u001b[39m, \u001b[38;5;124m\"\u001b[39m\u001b[38;5;124mtrue\u001b[39m\u001b[38;5;124m\"\u001b[39m)\n\u001b[0;32m      6\u001b[0m pandas_df \u001b[38;5;241m=\u001b[39m predictions\u001b[38;5;241m.\u001b[39mselect(\u001b[38;5;124m\"\u001b[39m\u001b[38;5;124mscaledFeatures\u001b[39m\u001b[38;5;124m\"\u001b[39m, \u001b[38;5;124m\"\u001b[39m\u001b[38;5;124mprediction\u001b[39m\u001b[38;5;124m\"\u001b[39m)\u001b[38;5;241m.\u001b[39mtoPandas()\n\u001b[0;32m      8\u001b[0m \u001b[38;5;66;03m# Giải mã `scaledFeatures` thành các giá trị riêng lẻ\u001b[39;00m\n",
      "\u001b[1;31mNameError\u001b[0m: name 'spark' is not defined"
     ]
    }
   ],
   "source": [
    "import matplotlib.pyplot as plt\n",
    "import pandas as pd\n",
    "\n",
    "spark.conf.set(\"spark.sql.execution.arrow.pyspark.enabled\", \"true\")\n",
    "\n",
    "pandas_df = predictions.select(\"scaledFeatures\", \"prediction\").toPandas()\n",
    "\n",
    "# Giải mã `scaledFeatures` thành các giá trị riêng lẻ\n",
    "scaled_features = pandas_df[\"scaledFeatures\"].apply(lambda x: x.toArray())\n",
    "scaled_features_df = pd.DataFrame(scaled_features.tolist(), columns=[\"Feature1\", \"Feature2\", \"Feature3\", \"Feature4\", \"Feature5\", \"Feature6\"])\n",
    "\n",
    "# Thêm cột dự đoán (cluster)\n",
    "scaled_features_df[\"Cluster\"] = pandas_df[\"prediction\"]\n",
    "\n",
    "# Plot 2D scatter plot (Feature1 và Feature2)\n",
    "plt.figure(figsize=(10, 6))\n",
    "for cluster in scaled_features_df[\"Cluster\"].unique():\n",
    "    cluster_data = scaled_features_df[scaled_features_df[\"Cluster\"] == cluster]\n",
    "    plt.scatter(cluster_data[\"Feature1\"], cluster_data[\"Feature2\"], label=f\"Cluster {cluster}\")\n",
    "\n",
    "plt.title(\"2D Scatter Plot of Clusters\")\n",
    "plt.xlabel(\"Feature1 (Acousticness)\")\n",
    "plt.ylabel(\"Feature2 (Energy)\")\n",
    "plt.legend()\n",
    "plt.grid()\n",
    "plt.show()\n"
   ]
  },
  {
   "cell_type": "code",
   "execution_count": null,
   "metadata": {
    "execution": {
     "iopub.execute_input": "2025-01-02T06:23:07.660271Z",
     "iopub.status.busy": "2025-01-02T06:23:07.659888Z"
    },
    "trusted": true
   },
   "outputs": [],
   "source": [
    "from mpl_toolkits.mplot3d import Axes3D\n",
    "\n",
    "fig = plt.figure(figsize=(10, 6))\n",
    "ax = fig.add_subplot(111, projection='3d')\n",
    "\n",
    "for cluster in scaled_features_df[\"Cluster\"].unique():\n",
    "    cluster_data = scaled_features_df[scaled_features_df[\"Cluster\"] == cluster]\n",
    "    ax.scatter(cluster_data[\"Feature1\"], cluster_data[\"Feature2\"], cluster_data[\"Feature3\"], label=f\"Cluster {cluster}\")\n",
    "\n",
    "ax.set_title(\"3D Scatter Plot of Clusters\")\n",
    "ax.set_xlabel(\"Feature1 (Acousticness)\")\n",
    "ax.set_ylabel(\"Feature2 (Energy)\")\n",
    "ax.set_zlabel(\"Feature3 (Liveness)\")\n",
    "ax.legend()\n",
    "\n",
    "silhouette_df = pd.DataFrame(predictions.select(\"prediction\").toPandas())\n",
    "silhouette_df[\"silhouette_score\"] = score  \n",
    "\n",
    "plt.figure(figsize=(12, 8))\n",
    "plt.barh(range(len(silhouette_df)), silhouette_df[\"silhouette_score\"], color='blue')\n",
    "plt.title(\"Silhouette Scores for Each Point\")\n",
    "plt.xlabel(\"Silhouette Score\")\n",
    "plt.ylabel(\"Data Points\")\n",
    "plt.show()"
   ]
  }
 ],
 "metadata": {
  "kaggle": {
   "accelerator": "none",
   "dataSources": [
    {
     "datasetId": 6375013,
     "sourceId": 10299602,
     "sourceType": "datasetVersion"
    },
    {
     "datasetId": 6410297,
     "sourceId": 10351975,
     "sourceType": "datasetVersion"
    }
   ],
   "dockerImageVersionId": 30822,
   "isGpuEnabled": false,
   "isInternetEnabled": true,
   "language": "python",
   "sourceType": "notebook"
  },
  "kernelspec": {
   "display_name": "Python 3",
   "language": "python",
   "name": "python3"
  },
  "language_info": {
   "codemirror_mode": {
    "name": "ipython",
    "version": 3
   },
   "file_extension": ".py",
   "mimetype": "text/x-python",
   "name": "python",
   "nbconvert_exporter": "python",
   "pygments_lexer": "ipython3",
   "version": "3.13.0"
  }
 },
 "nbformat": 4,
 "nbformat_minor": 4
}
