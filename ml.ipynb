{
 "cells": [
  {
   "cell_type": "code",
   "execution_count": 2,
   "metadata": {
    "execution": {
     "iopub.execute_input": "2025-01-02T12:00:55.937538Z",
     "iopub.status.busy": "2025-01-02T12:00:55.937240Z",
     "iopub.status.idle": "2025-01-02T12:00:56.192528Z",
     "shell.execute_reply": "2025-01-02T12:00:56.191681Z",
     "shell.execute_reply.started": "2025-01-02T12:00:55.937501Z"
    },
    "trusted": true
   },
   "outputs": [],
   "source": [
    "from pyspark.sql import SparkSession\n",
    "from pyspark.sql.functions import col\n",
    "from pyspark.ml.feature import VectorAssembler, StandardScaler, StringIndexer\n",
    "from pyspark.ml.regression import LinearRegression\n",
    "from pyspark.ml.classification import LogisticRegression\n",
    "from pyspark.ml.evaluation import RegressionEvaluator, BinaryClassificationEvaluator\n",
    "from pyspark.ml import Pipeline\n",
    "from pyspark.ml.clustering import KMeans\n",
    "from pyspark.ml.evaluation import ClusteringEvaluator\n",
    "from pyspark.storagelevel import StorageLevel"
   ]
  },
  {
   "cell_type": "code",
   "execution_count": 3,
   "metadata": {
    "execution": {
     "iopub.execute_input": "2025-01-02T12:00:56.194474Z",
     "iopub.status.busy": "2025-01-02T12:00:56.193952Z",
     "iopub.status.idle": "2025-01-02T12:01:07.757507Z",
     "shell.execute_reply": "2025-01-02T12:01:07.756277Z",
     "shell.execute_reply.started": "2025-01-02T12:00:56.194448Z"
    },
    "trusted": true
   },
   "outputs": [],
   "source": [
    "spark = SparkSession.builder.appName(\"Music\") \\\n",
    "    .getOrCreate()\n",
    "df = spark.read.csv(\"/kaggle/input/output/output.csv\", header=True)\n",
    "df = df.dropna()"
   ]
  },
  {
   "cell_type": "code",
   "execution_count": 4,
   "metadata": {
    "execution": {
     "iopub.execute_input": "2025-01-02T12:01:07.759391Z",
     "iopub.status.busy": "2025-01-02T12:01:07.759014Z",
     "iopub.status.idle": "2025-01-02T12:01:07.967090Z",
     "shell.execute_reply": "2025-01-02T12:01:07.966030Z",
     "shell.execute_reply.started": "2025-01-02T12:01:07.759364Z"
    },
    "trusted": true
   },
   "outputs": [],
   "source": [
    "columns_to_cast = [\"Acousticness\", \"Energy\", \"Liveness\", \"Loudness\", \"Tempo\", \"Popularity\"]\n",
    "for col_name in columns_to_cast:\n",
    "    df = df.withColumn(col_name, col(col_name).cast(\"double\"))"
   ]
  },
  {
   "cell_type": "code",
   "execution_count": 5,
   "metadata": {
    "execution": {
     "iopub.execute_input": "2025-01-02T12:01:07.968596Z",
     "iopub.status.busy": "2025-01-02T12:01:07.968212Z",
     "iopub.status.idle": "2025-01-02T12:01:46.222583Z",
     "shell.execute_reply": "2025-01-02T12:01:46.221367Z",
     "shell.execute_reply.started": "2025-01-02T12:01:07.968562Z"
    },
    "trusted": true
   },
   "outputs": [],
   "source": [
    "indexer = StringIndexer(inputCol=\"Explicit\", outputCol=\"ExplicitIndex\")\n",
    "df = indexer.fit(df).transform(df)\n",
    "assembler = VectorAssembler(\n",
    "    inputCols=[\"Acousticness\", \"Energy\", \"Liveness\", \"Loudness\", \"Tempo\", \"ExplicitIndex\"],\n",
    "    outputCol=\"features\",\n",
    "    handleInvalid=\"skip\"\n",
    ")\n",
    "df = assembler.transform(df)"
   ]
  },
  {
   "cell_type": "code",
   "execution_count": 6,
   "metadata": {
    "execution": {
     "iopub.execute_input": "2025-01-02T12:01:46.224283Z",
     "iopub.status.busy": "2025-01-02T12:01:46.223874Z",
     "iopub.status.idle": "2025-01-02T12:02:22.389057Z",
     "shell.execute_reply": "2025-01-02T12:02:22.387955Z",
     "shell.execute_reply.started": "2025-01-02T12:01:46.224206Z"
    },
    "trusted": true
   },
   "outputs": [],
   "source": [
    "scaler = StandardScaler(inputCol=\"features\", outputCol=\"scaledFeatures\")\n",
    "df = scaler.fit(df).transform(df)"
   ]
  },
  {
   "cell_type": "code",
   "execution_count": 7,
   "metadata": {
    "execution": {
     "iopub.execute_input": "2025-01-02T12:02:22.390198Z",
     "iopub.status.busy": "2025-01-02T12:02:22.389881Z",
     "iopub.status.idle": "2025-01-02T12:02:22.424429Z",
     "shell.execute_reply": "2025-01-02T12:02:22.423335Z",
     "shell.execute_reply.started": "2025-01-02T12:02:22.390169Z"
    },
    "trusted": true
   },
   "outputs": [],
   "source": [
    "train_data, test_data = df.randomSplit([0.8, 0.2], seed=42)\n"
   ]
  },
  {
   "cell_type": "code",
   "execution_count": 8,
   "metadata": {
    "execution": {
     "iopub.execute_input": "2025-01-02T12:02:22.426913Z",
     "iopub.status.busy": "2025-01-02T12:02:22.426555Z",
     "iopub.status.idle": "2025-01-02T12:06:06.981838Z",
     "shell.execute_reply": "2025-01-02T12:06:06.980501Z",
     "shell.execute_reply.started": "2025-01-02T12:02:22.426881Z"
    },
    "trusted": true
   },
   "outputs": [],
   "source": [
    "kmeans = KMeans(featuresCol=\"scaledFeatures\", k=3)\n",
    "kmeans_model = kmeans.fit(df)\n",
    "predictions = kmeans_model.transform(df)"
   ]
  },
  {
   "cell_type": "code",
   "execution_count": null,
   "metadata": {
    "execution": {
     "iopub.execute_input": "2025-01-02T12:06:06.985628Z",
     "iopub.status.busy": "2025-01-02T12:06:06.985021Z"
    },
    "trusted": true
   },
   "outputs": [],
   "source": [
    "silhouette_scores = []\n",
    "for k in range(2, 12):\n",
    "    kmeans = KMeans(featuresCol=\"scaledFeatures\", k=k, seed=42)\n",
    "    kmeans_model = kmeans.fit(df)\n",
    "    \n",
    "    predictions = kmeans_model.transform(df)\n",
    "    \n",
    "    evaluator = ClusteringEvaluator(featuresCol=\"scaledFeatures\", metricName=\"silhouette\", distanceMeasure=\"squaredEuclidean\")\n",
    "    silhouette_score = evaluator.evaluate(predictions)\n",
    "    \n",
    "    silhouette_scores.append((k, silhouette_score))\n",
    "best_k, best_score = max(silhouette_scores, key=lambda x: x[1])"
   ]
  },
  {
   "cell_type": "code",
   "execution_count": null,
   "metadata": {
    "trusted": true
   },
   "outputs": [],
   "source": [
    "k_values, scores = zip(*silhouette_scores)\n",
    "plt.figure(figsize=(10, 6))\n",
    "plt.plot(k_values, scores, marker='o', linestyle='-', color='b', label=\"Silhouette Score\")\n",
    "plt.axhline(y=max(scores), color='r', linestyle='--', label=f\"Max Score: {max(scores):.4f} at k={k_values[scores.index(max(scores))]}\")\n",
    "plt.title(\"Silhouette Scores for Different k\")\n",
    "plt.xlabel(\"Number of Clusters (k)\")\n",
    "plt.ylabel(\"Silhouette Score\")\n",
    "plt.legend()\n",
    "plt.grid()\n",
    "plt.show()"
   ]
  },
  {
   "cell_type": "code",
   "execution_count": null,
   "metadata": {
    "trusted": true
   },
   "outputs": [],
   "source": [
    "kmeans = KMeans(featuresCol=\"scaledFeatures\", k=best_k, seed=42)\n",
    "kmeans_model = kmeans.fit(df)\n",
    "predictions = kmeans_model.transform(df)"
   ]
  },
  {
   "cell_type": "code",
   "execution_count": null,
   "metadata": {
    "trusted": true
   },
   "outputs": [],
   "source": [
    "import matplotlib.pyplot as plt\n",
    "import pandas as pd\n",
    "\n",
    "spark.conf.set(\"spark.sql.execution.arrow.pyspark.enabled\", \"true\")\n",
    "\n",
    "pandas_df = predictions.select(\"scaledFeatures\", \"prediction\").toPandas()\n",
    "\n",
    "# Giải mã `scaledFeatures` thành các giá trị riêng lẻ\n",
    "scaled_features = pandas_df[\"scaledFeatures\"].apply(lambda x: x.toArray())\n",
    "scaled_features_df = pd.DataFrame(scaled_features.tolist(), columns=[\"Feature1\", \"Feature2\", \"Feature3\", \"Feature4\", \"Feature5\", \"Feature6\"])\n",
    "\n",
    "# Thêm cột dự đoán (cluster)\n",
    "scaled_features_df[\"Cluster\"] = pandas_df[\"prediction\"]\n",
    "\n",
    "# Plot 2D scatter plot (Feature1 và Feature2)\n",
    "plt.figure(figsize=(10, 6))\n",
    "for cluster in scaled_features_df[\"Cluster\"].unique():\n",
    "    cluster_data = scaled_features_df[scaled_features_df[\"Cluster\"] == cluster]\n",
    "    plt.scatter(cluster_data[\"Feature1\"], cluster_data[\"Feature2\"], label=f\"Cluster {cluster}\")\n",
    "\n",
    "plt.title(\"2D Scatter Plot of Clusters\")\n",
    "plt.xlabel(\"Feature1 (Acousticness)\")\n",
    "plt.ylabel(\"Feature2 (Energy)\")\n",
    "plt.legend()\n",
    "plt.grid()\n",
    "plt.show()\n"
   ]
  },
  {
   "cell_type": "code",
   "execution_count": null,
   "metadata": {
    "trusted": true
   },
   "outputs": [],
   "source": [
    "from mpl_toolkits.mplot3d import Axes3D\n",
    "\n",
    "fig = plt.figure(figsize=(10, 6))\n",
    "ax = fig.add_subplot(111, projection='3d')\n",
    "\n",
    "for cluster in scaled_features_df[\"Cluster\"].unique():\n",
    "    cluster_data = scaled_features_df[scaled_features_df[\"Cluster\"] == cluster]\n",
    "    ax.scatter(cluster_data[\"Feature1\"], cluster_data[\"Feature2\"], cluster_data[\"Feature3\"], label=f\"Cluster {cluster}\")\n",
    "\n",
    "ax.set_title(\"3D Scatter Plot of Clusters\")\n",
    "ax.set_xlabel(\"Feature1 (Acousticness)\")\n",
    "ax.set_ylabel(\"Feature2 (Energy)\")\n",
    "ax.set_zlabel(\"Feature3 (Liveness)\")\n",
    "ax.legend()\n",
    "\n",
    "silhouette_df = pd.DataFrame(predictions.select(\"prediction\").toPandas())\n",
    "silhouette_df[\"silhouette_score\"] = score  \n",
    "\n",
    "plt.figure(figsize=(12, 8))\n",
    "plt.barh(range(len(silhouette_df)), silhouette_df[\"silhouette_score\"], color='blue')\n",
    "plt.title(\"Silhouette Scores for Each Point\")\n",
    "plt.xlabel(\"Silhouette Score\")\n",
    "plt.ylabel(\"Data Points\")\n",
    "plt.show()"
   ]
  }
 ],
 "metadata": {
  "kaggle": {
   "accelerator": "none",
   "dataSources": [
    {
     "datasetId": 6375013,
     "sourceId": 10299602,
     "sourceType": "datasetVersion"
    },
    {
     "datasetId": 6410297,
     "sourceId": 10351975,
     "sourceType": "datasetVersion"
    }
   ],
   "dockerImageVersionId": 30822,
   "isGpuEnabled": false,
   "isInternetEnabled": true,
   "language": "python",
   "sourceType": "notebook"
  },
  "kernelspec": {
   "display_name": "Python 3",
   "language": "python",
   "name": "python3"
  },
  "language_info": {
   "codemirror_mode": {
    "name": "ipython",
    "version": 3
   },
   "file_extension": ".py",
   "mimetype": "text/x-python",
   "name": "python",
   "nbconvert_exporter": "python",
   "pygments_lexer": "ipython3",
   "version": "3.10.12"
  }
 },
 "nbformat": 4,
 "nbformat_minor": 4
}
